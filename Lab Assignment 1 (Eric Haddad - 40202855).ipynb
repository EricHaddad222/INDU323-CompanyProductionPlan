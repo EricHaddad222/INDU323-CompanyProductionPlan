{
 "cells": [
  {
   "cell_type": "markdown",
   "id": "bd6f2418-665d-4030-a0c4-a08e9c349fa3",
   "metadata": {},
   "source": [
    "# Name: Eric Haddad\n",
    "# Student ID: 40202855\n",
    "# Date: 12/03/2024"
   ]
  },
  {
   "cell_type": "markdown",
   "id": "3c8a588f-532c-4d36-a279-3ac5ec8dbfe3",
   "metadata": {},
   "source": [
    "# Import Packages"
   ]
  },
  {
   "cell_type": "code",
   "execution_count": 1,
   "id": "e879879e-824a-453d-940d-d216521f3f27",
   "metadata": {},
   "outputs": [],
   "source": [
    "import pyomo.environ as pyo\n",
    "from pyomo.opt import SolverFactory"
   ]
  },
  {
   "cell_type": "markdown",
   "id": "9c0772cf-d562-47b9-94d0-8726004f48db",
   "metadata": {},
   "source": [
    "# Model Definition"
   ]
  },
  {
   "cell_type": "code",
   "execution_count": 2,
   "id": "5261efe7-f754-41f3-bac2-5d4ee09a2f44",
   "metadata": {},
   "outputs": [],
   "source": [
    "# Instantiate a concrete model\n",
    "m = pyo.ConcreteModel(name = \"Pencil Production\")"
   ]
  },
  {
   "cell_type": "markdown",
   "id": "5195864e-9e15-47af-a720-f2b3b74e8950",
   "metadata": {},
   "source": [
    "# Parameters"
   ]
  },
  {
   "cell_type": "code",
   "execution_count": 3,
   "id": "c742326e-d607-4741-9ed6-30f20de7c309",
   "metadata": {},
   "outputs": [],
   "source": [
    "# Profit per unit ($/unit)\n",
    "m.pr = pyo.Param(initialize = 1.9) # Profit per unit for Red pencils\n",
    "m.pb = pyo.Param(initialize = 1.1) # Profit per unit for Blue pencils\n",
    "m.pw = pyo.Param(initialize = 2.8) # Profit per unit for White pencils\n",
    "\n",
    "pr = m.pr\n",
    "pb = m.pb\n",
    "pw = m.pw\n",
    "\n",
    "# Capacity of Plant\n",
    "m.c1 = pyo.Param(initialize = 390) # Time Capacity (min/day) for Machine 1\n",
    "m.c2 = pyo.Param(initialize = 348) # Time Capacity (hours/day) for Machine 2\n",
    "m.c3 = pyo.Param(initialize = 150) # Capacity to process White pencils (units/day) for Machine 1\n",
    "m.c4 = pyo.Param(initialize = 220) # Capacity to process White pencils (units/day) for Machine 2\n",
    "\n",
    "c1 = m.c1\n",
    "c2 = m.c2 \n",
    "c3 = m.c3\n",
    "c4 = m.c4\n",
    "\n",
    "# Processes Time for each Machine\n",
    "# Process 1\n",
    "m.t11 = pyo.Param(initialize = 0.8) # Coefficient of x1 (Red) in Processing Time 1 equation\n",
    "m.t21 = pyo.Param(initialize = 1.3) # Coefficient of x2 (Blue) in Processing Time 1 equation\n",
    "m.t31 = pyo.Param(initialize = 1.1) # Coefficient of x3 (White) in Processing Time 1 equation\n",
    "\n",
    "# Process 2\n",
    "m.t12 = pyo.Param(initialize = 1.8) # Coefficient of x1 (Red) in Processing Time 2 equation\n",
    "m.t22 = pyo.Param(initialize = 0.5) # Coefficient of x2 (Blue) in Processing Time 2 equation\n",
    "m.t32 = pyo.Param(initialize = 1.3) # Coefficient of x3 (White) in Processing Time 2 equation\n",
    "\n",
    "t11 = m.t11\n",
    "t21 = m.t21\n",
    "t31 = m.t31\n",
    "t12 = m.t12\n",
    "t22 = m.t22\n",
    "t32 = m.t32"
   ]
  },
  {
   "cell_type": "markdown",
   "id": "2effa02c-18e7-4ce0-8bac-c7b26e5b8550",
   "metadata": {},
   "source": [
    "# Decision Variables"
   ]
  },
  {
   "cell_type": "code",
   "execution_count": 4,
   "id": "76ff2682-d2cf-4e3a-917c-144607bbb87a",
   "metadata": {},
   "outputs": [],
   "source": [
    "# Setting up the variables x1, x2 and x3\n",
    "m.x1 = pyo.Var(domain = pyo.NonNegativeReals) # x1: Variable for Red pencils\n",
    "m.x2 = pyo.Var(domain = pyo.NonNegativeReals) # x2: Variable for Blue pencils\n",
    "m.x3 = pyo.Var(domain = pyo.NonNegativeReals) # x3: Variable for White pencils\n",
    "\n",
    "x1 = m.x1\n",
    "x2 = m.x2\n",
    "x3 = m.x3"
   ]
  },
  {
   "cell_type": "markdown",
   "id": "10868eec-464b-4bac-a3bc-4d51d9ab4b99",
   "metadata": {},
   "source": [
    "# Objective Function"
   ]
  },
  {
   "cell_type": "markdown",
   "id": "d0cf81d5-4d56-44b6-a1b1-e9b80048a755",
   "metadata": {},
   "source": [
    "$$max\\\\Z = 1.9x_1 + 1.1x_2 + 2.8x_3$$"
   ]
  },
  {
   "cell_type": "code",
   "execution_count": 5,
   "id": "5b78a849-ff3d-48b2-a329-1769f69428b1",
   "metadata": {},
   "outputs": [],
   "source": [
    "m.obj = pyo.Objective(expr = pr*x1 + pb*x2 + pw*x3, sense = pyo.maximize)"
   ]
  },
  {
   "cell_type": "markdown",
   "id": "12c0c64c-c6bb-4dd9-98b1-9f8cee0e8b16",
   "metadata": {},
   "source": [
    "# Constraints"
   ]
  },
  {
   "cell_type": "markdown",
   "id": "aef627c4-3a77-47d9-87dc-165dccd1f773",
   "metadata": {},
   "source": [
    "Constraint 1: The time capacity for machine 1 cannot be exceeded:\n",
    "$$ 0.8x_1+1.3x_2+1.1x_3 <= 6.5$$"
   ]
  },
  {
   "cell_type": "code",
   "execution_count": 6,
   "id": "8552a662-8e1b-4317-ba77-855eee646d4b",
   "metadata": {},
   "outputs": [],
   "source": [
    "m.cons1 = pyo.Constraint(expr = t11*x1 + t21*x2 + t31*x3 <= c1, doc = \"Time Capacity (Machine 1)\")"
   ]
  },
  {
   "cell_type": "markdown",
   "id": "dfe17da0-3a83-4322-8f7d-acbda4792a5c",
   "metadata": {},
   "source": [
    "Constraint 2: The time capacity for machine 2 cannot be exceeded:\n",
    "$$ 1.8x_1+0.5x_2+1.3x_3 <= 5.8$$"
   ]
  },
  {
   "cell_type": "code",
   "execution_count": 7,
   "id": "5f4a39a9-a538-4ce0-89ac-48f9eb34838b",
   "metadata": {},
   "outputs": [],
   "source": [
    "m.cons2 = pyo.Constraint(expr = t12*x1 + t22*x2 +t32*x3 <= c2, doc = \"Time Capacity (Machine 2)\")"
   ]
  },
  {
   "cell_type": "markdown",
   "id": "e3cf1475-7414-4149-8ed9-d3e5b4897aad",
   "metadata": {},
   "source": [
    "Constraint 3: The capacity to process white pencils for machine 1 cannot be exceeded:\n",
    "$$ x_3 <= 150$$"
   ]
  },
  {
   "cell_type": "code",
   "execution_count": 8,
   "id": "551538f8-c3b1-4e23-816a-41ac3f430d74",
   "metadata": {},
   "outputs": [],
   "source": [
    "m.cons3 = pyo.Constraint(expr = x3 <= c3, doc = \"Processing Capacity for White Pencils (Machine 1)\")"
   ]
  },
  {
   "cell_type": "markdown",
   "id": "29a1b8ee-1bef-41e7-a0e0-73cf281c7d7a",
   "metadata": {},
   "source": [
    "Constraint 4: The capacity to process white pencils for machine 2 cannot be exceeded:\n",
    "$$x_3 <= 220$$"
   ]
  },
  {
   "cell_type": "code",
   "execution_count": 9,
   "id": "549f470e-7ef7-4209-a798-50837560b190",
   "metadata": {},
   "outputs": [],
   "source": [
    "m.cons4 = pyo.Constraint(expr = x3 <= c4, doc = \"Processing Capacity for White Pencils (Machine 2)\")"
   ]
  },
  {
   "cell_type": "markdown",
   "id": "3608e5e3-4860-4d61-9e3a-a196def45ba9",
   "metadata": {},
   "source": [
    "The non-negativity constraint is already in the decision variables definition.\n",
    "\n",
    "Therefore we're done with setting up the objective function and the constraints."
   ]
  },
  {
   "cell_type": "markdown",
   "id": "ca2d1e96-5619-4f79-b028-7707a1437150",
   "metadata": {},
   "source": [
    "# Solving and Obtaining Results"
   ]
  },
  {
   "cell_type": "code",
   "execution_count": 10,
   "id": "f3ab8748-7835-448d-bb6f-c2521ab18da9",
   "metadata": {},
   "outputs": [],
   "source": [
    "# Creating a dual suffix component\n",
    "# Instance the dual model, in which suffix data will be imported from the primal solver\n",
    "m.dual = pyo.Suffix(direction = pyo.Suffix.IMPORT)"
   ]
  },
  {
   "cell_type": "code",
   "execution_count": 11,
   "id": "9611e2f0-8da5-4668-8984-bafa797422cc",
   "metadata": {},
   "outputs": [],
   "source": [
    "solver = SolverFactory('gurobi')\n",
    "results = solver.solve(m)"
   ]
  },
  {
   "cell_type": "code",
   "execution_count": 12,
   "id": "33541acd-5b07-46f3-a035-74a0306ab2bb",
   "metadata": {},
   "outputs": [
    {
     "name": "stdout",
     "output_type": "stream",
     "text": [
      "\n",
      "Problem: \n",
      "- Name: x1\n",
      "  Lower bound: 664.8556701030927\n",
      "  Upper bound: 664.8556701030927\n",
      "  Number of objectives: 1\n",
      "  Number of constraints: 4\n",
      "  Number of variables: 3\n",
      "  Number of binary variables: 0\n",
      "  Number of integer variables: 0\n",
      "  Number of continuous variables: 3\n",
      "  Number of nonzeros: 8\n",
      "  Sense: maximize\n",
      "Solver: \n",
      "- Status: ok\n",
      "  Return code: 0\n",
      "  Message: Model was solved to optimality (subject to tolerances), and an optimal solution is available.\n",
      "  Termination condition: optimal\n",
      "  Termination message: Model was solved to optimality (subject to tolerances), and an optimal solution is available.\n",
      "  Wall time: 0.0007519721984863281\n",
      "  Error rc: 0\n",
      "  Time: 0.45563483238220215\n",
      "Solution: \n",
      "- number of solutions: 0\n",
      "  number of solutions displayed: 0\n",
      "\n"
     ]
    }
   ],
   "source": [
    "# Print the solution of the model\n",
    "print(results)"
   ]
  },
  {
   "cell_type": "markdown",
   "id": "dfacdf07-a8ec-4b24-a19a-6ddbccc35336",
   "metadata": {},
   "source": [
    "# Questions & Answers"
   ]
  },
  {
   "cell_type": "markdown",
   "id": "6dcc4f7e-9f5a-468c-a0e9-74968390b4ed",
   "metadata": {},
   "source": [
    "- Question 1:\n",
    "\n",
    "What is the optimal production plan and what is the profit for that solution? \n",
    "\n",
    "If needed, round up to 2 decimals."
   ]
  },
  {
   "cell_type": "code",
   "execution_count": 13,
   "id": "bc724bf6-ccf3-474e-b70e-46ec92f4426c",
   "metadata": {},
   "outputs": [
    {
     "name": "stdout",
     "output_type": "stream",
     "text": [
      "Optimal Production Plan and Profit:\n",
      "Production Plan:\n",
      "x1 = 44.54\n",
      "x2 = 145.67\n",
      "x3 = 150.0\n",
      "Profit: $ 664.86\n",
      "The company should produce 44.5 batches of Red pencils, 145.7 of Blue pencils, and 150.0 of White pencils for a total profit of $664.86 per day.\n"
     ]
    }
   ],
   "source": [
    "# Optimal Production Plan rounded up to 2 decimals\n",
    "optimal_x1 = pyo.value(m.x1)\n",
    "optimal_x2 = pyo.value(m.x2)\n",
    "optimal_x3 = pyo.value(m.x3)\n",
    "optimal_profit = pyo.value(m.obj)\n",
    "\n",
    "print(\"Optimal Production Plan and Profit:\")\n",
    "print(\"Production Plan:\")\n",
    "print(\"x1 =\", round(optimal_x1, 2))\n",
    "print(\"x2 =\", round(optimal_x2, 2))\n",
    "print(\"x3 =\", round(optimal_x3, 2))\n",
    "print(\"Profit: $\", round(optimal_profit, 2))\n",
    "\n",
    "print(\"The company should produce {:.1f} batches of Red pencils, {:.1f} of Blue pencils, and {:.1f} of White pencils for a total profit of ${:,.2f} per day.\".format(pyo.value(x1), pyo.value(x2), pyo.value(x3), pyo.value(m.obj)))"
   ]
  },
  {
   "cell_type": "markdown",
   "id": "2e6dbe30-e1bc-44ec-aff1-f0526e416ccb",
   "metadata": {},
   "source": [
    "- Question 2:\n",
    "\n",
    "An increase in the demand for blue pencils raised its profit by 30%. \n",
    "\n",
    "Please answer the questions of point 1 once again. \n",
    "\n",
    "If needed, round up to 2 decimals."
   ]
  },
  {
   "cell_type": "code",
   "execution_count": 14,
   "id": "05585360-cd4e-4ba1-9eaf-1ae9e0f1da2a",
   "metadata": {},
   "outputs": [
    {
     "name": "stdout",
     "output_type": "stream",
     "text": [
      "Optimal Production Plan and Profit with Increased Demand for Blue Pencils:\n",
      "Production Plan:\n",
      "x1 = 44.54\n",
      "x2 = 145.67\n",
      "x3 = 150.0\n",
      "Profit: $ 712.93\n",
      "The company should produce 44.5 batches of Red pencils, 145.7 of Blue pencils, and 150.0 of White pencils \n",
      "  for a total profit of $712.93 per day.\n"
     ]
    }
   ],
   "source": [
    "# Increase in the demand for blue pencils raised its profit by 30%\n",
    "m.obj.deactivate()\n",
    "m.newobj = pyo.Objective(expr = pr*x1 + 1.3*pb*x2 + pw*x3, sense = pyo.maximize)\n",
    "\n",
    "# Solve the updated model\n",
    "results2 = solver.solve(m)\n",
    "\n",
    "# Retrieve and print the updated solution\n",
    "updated_optimal_x1 = pyo.value(m.x1)\n",
    "updated_optimal_x2 = pyo.value(m.x2)\n",
    "updated_optimal_x3 = pyo.value(m.x3)\n",
    "updated_optimal_profit = pyo.value(m.newobj)\n",
    "\n",
    "print(\"Optimal Production Plan and Profit with Increased Demand for Blue Pencils:\")\n",
    "print(\"Production Plan:\")\n",
    "print(\"x1 =\", round(updated_optimal_x1, 2))\n",
    "print(\"x2 =\", round(updated_optimal_x2, 2))\n",
    "print(\"x3 =\", round(updated_optimal_x3, 2))\n",
    "print(\"Profit: $\", round(updated_optimal_profit, 2))\n",
    "print(\"\"\"The company should produce {:.1f} batches of Red pencils, {:.1f} of Blue pencils, and {:.1f} of White pencils \n",
    "  for a total profit of ${:,.2f} per day.\"\"\".\n",
    "      format(pyo.value(x1), pyo.value(x2), pyo.value(x3), pyo.value(m.newobj)))"
   ]
  },
  {
   "cell_type": "markdown",
   "id": "0bb10710-0922-4db0-8a76-9cc8d18d66f7",
   "metadata": {},
   "source": [
    "- Question 3:\n",
    "\n",
    "With the profit in point 1 for blue pencils, calculate the dual variables.\n",
    "\n",
    "Please explain the meaning of the results."
   ]
  },
  {
   "cell_type": "code",
   "execution_count": 15,
   "id": "da7e4fc4-5c12-4f62-aec1-ed4ade52ce02",
   "metadata": {},
   "outputs": [
    {
     "name": "stdout",
     "output_type": "stream",
     "text": [
      "Duals:\n",
      "-----------------------------------------------------------------------\n",
      "'Time Capacity (Machine 1)' constraint: 0.84\n",
      "'Time Capacity (Machine 2)' constraint: 0.68\n",
      "'Processing Capacity for White Pencils (Machine 1)' constraint: 0.99\n",
      "'Processing Capacity for White Pencils (Machine 2)' constraint: 0.00\n",
      "-----------------------------------------------------------------------\n",
      "Meaning of the Results:\n",
      "The dual variables represent the shadow prices or marginal values of the resources (constraints) in the problem.\n",
      "If constraint 1 increases by 1 unit, the profit would increase by  0.84\n"
     ]
    }
   ],
   "source": [
    "# Showing the dual variables\n",
    "m.obj.activate()\n",
    "print(\"Duals:\")\n",
    "print(\"-----------------------------------------------------------------------\")\n",
    "for c in m.component_objects(pyo.Constraint, active = True):\n",
    "    print(\"'{}' constraint: {:,.2f}\".format(c.doc, m.dual[c]))\n",
    "\n",
    "duals = []\n",
    "for c in m.component_objects(pyo.Constraint, active = True):\n",
    "    duals.append(m.dual[c])\n",
    "print(\"-----------------------------------------------------------------------\")\n",
    "print(\"\"\"Meaning of the Results:\n",
    "The dual variables represent the shadow prices or marginal values of the resources (constraints) in the problem.\n",
    "If constraint 1 increases by 1 unit, the profit would increase by \"\"\", round(duals[0], 2))"
   ]
  },
  {
   "cell_type": "markdown",
   "id": "d9ace0c3-5701-4b01-a2ad-5c9c199e54da",
   "metadata": {},
   "source": [
    "- Question 4:\n",
    "\n",
    "Since green is the best color in the world, the company wants to see if it is a good\n",
    "idea to include that pencil in their production. \n",
    "\n",
    "Assuming that all the capacities remain the same and that the parameters are as follows, please explain what would be your advice to the company’s CEO. For blue pencils, use the profit of point 1."
   ]
  },
  {
   "cell_type": "markdown",
   "id": "dfdba7b6-d886-44c6-b7f3-d6045948917c",
   "metadata": {},
   "source": [
    "# Adding Green pencils to the model"
   ]
  },
  {
   "cell_type": "code",
   "execution_count": 16,
   "id": "25cd3ac9-1893-4197-bd85-dc0c1f4de8a3",
   "metadata": {},
   "outputs": [
    {
     "name": "stdout",
     "output_type": "stream",
     "text": [
      "Duals:\n",
      "-----------------------------------------------------------------------\n",
      "'Time Capacity (Machine 1)' constraint: 0.53\n",
      "'Time Capacity (Machine 2)' constraint: 0.82\n",
      "'Processing Capacity for White Pencils (Machine 1)' constraint: 1.15\n",
      "'Processing Capacity for White Pencils (Machine 2)' constraint: 0.00\n",
      "'Time Capacity (Machine 2) for Green pencils' constraint: 0.00\n",
      "'Time Capacity (Machine 2) for Green pencils' constraint: 0.33\n"
     ]
    }
   ],
   "source": [
    "m.obj.deactivate()\n",
    "m.newobj.deactivate()\n",
    "# Define the parameters\n",
    "m.pg = pyo.Param(initialize = 0.4)\n",
    "\n",
    "pg = m.pg\n",
    "\n",
    "# Define the decision variable\n",
    "m.x4 = pyo.Var(domain = pyo.NonNegativeReals)\n",
    "\n",
    "x4 = m.x4\n",
    "\n",
    "# Define the objective function\n",
    "m.obj4 = pyo.Objective(expr = pr*x1 + pb*x2 + pw*x3 + pg*x4, sense = pyo.maximize)\n",
    "\n",
    "# Processes Time for each Machine\n",
    "# Process 1\n",
    "m.t41 = pyo.Param(initialize = 0.7) # Coefficient of x4 (Green) in Processing Time 1 equation\n",
    "m.t42 = pyo.Param(initialize = 1.2) # Coefficient of x4 (Green) in Processing Time 2 equation\n",
    "\n",
    "t41 = m.t41\n",
    "t42 = m.t42\n",
    "\n",
    "# Define the new constraints\n",
    "m.cons5 = pyo.Constraint(expr = t41*x4 <= 390, doc = 'Time Capacity (Machine 2) for Green pencils')\n",
    "m.cons6 = pyo.Constraint(expr = t42*x4 <= 348, doc = 'Time Capacity (Machine 2) for Green pencils')\n",
    "\n",
    "# Solve the model\n",
    "results3 = solver.solve(m)\n",
    "\n",
    "\n",
    "print(\"Duals:\")\n",
    "print(\"-----------------------------------------------------------------------\")\n",
    "for c in m.component_objects(pyo.Constraint, active = True):\n",
    "    print(\"'{}' constraint: {:,.2f}\".format(c.doc, m.dual[c]))\n",
    "\n",
    "duals = []\n",
    "for c in m.component_objects(pyo.Constraint, active = True):\n",
    "    duals.append(m.dual[c])"
   ]
  },
  {
   "cell_type": "markdown",
   "id": "5decdc49-8707-4756-90ff-7f5990dd1f2d",
   "metadata": {},
   "source": [
    "- After adding green pencils to our model, we received positive dual variables.\n",
    "  This indicates that the addition of green pencils has increased the value of the objective function,\n",
    "  while still satisfying all constraints. "
   ]
  }
 ],
 "metadata": {
  "kernelspec": {
   "display_name": "Python 3 (ipykernel)",
   "language": "python",
   "name": "python3"
  },
  "language_info": {
   "codemirror_mode": {
    "name": "ipython",
    "version": 3
   },
   "file_extension": ".py",
   "mimetype": "text/x-python",
   "name": "python",
   "nbconvert_exporter": "python",
   "pygments_lexer": "ipython3",
   "version": "3.11.6"
  }
 },
 "nbformat": 4,
 "nbformat_minor": 5
}
